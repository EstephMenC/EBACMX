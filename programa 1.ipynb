{
 "cells": [
  {
   "cell_type": "code",
   "execution_count": 6,
   "id": "75d20d90-b651-4d6c-8d58-89a88fba5878",
   "metadata": {
    "tags": []
   },
   "outputs": [
    {
     "name": "stdout",
     "output_type": "stream",
     "text": [
      "Bienvenido al curso de Python\n"
     ]
    }
   ],
   "source": [
    "print('Bienvenido al curso de Python')"
   ]
  },
  {
   "cell_type": "code",
   "execution_count": 7,
   "id": "f4e31de1-ee1d-4370-9fd9-a31dd82c7412",
   "metadata": {},
   "outputs": [
    {
     "name": "stdout",
     "output_type": "stream",
     "text": [
      "123\n"
     ]
    }
   ],
   "source": [
    "print(123)"
   ]
  },
  {
   "cell_type": "code",
   "execution_count": 8,
   "id": "3e357b53-d46f-4133-bba4-97c2a72372fc",
   "metadata": {},
   "outputs": [],
   "source": [
    "x=10.5\n",
    "y=20"
   ]
  },
  {
   "cell_type": "code",
   "execution_count": 9,
   "id": "20a1b754-0d05-4c56-951c-ee9d2e5d15bf",
   "metadata": {},
   "outputs": [
    {
     "name": "stdout",
     "output_type": "stream",
     "text": [
      "10.5\n"
     ]
    }
   ],
   "source": [
    "print(x)"
   ]
  },
  {
   "cell_type": "code",
   "execution_count": 10,
   "id": "7188f6e8-c8d7-4ac4-983e-5de596cd829f",
   "metadata": {},
   "outputs": [
    {
     "name": "stdout",
     "output_type": "stream",
     "text": [
      "El valor de x es 10.5\n"
     ]
    }
   ],
   "source": [
    "print(\"El valor de x es\",x)"
   ]
  },
  {
   "cell_type": "code",
   "execution_count": 11,
   "id": "d23d25fa-e447-473b-8558-ea6ca87a367b",
   "metadata": {},
   "outputs": [
    {
     "name": "stdout",
     "output_type": "stream",
     "text": [
      "El resultado de z es 30.5\n"
     ]
    }
   ],
   "source": [
    "z=x+y\n",
    "print(\"El resultado de z es\",z)"
   ]
  },
  {
   "cell_type": "code",
   "execution_count": 12,
   "id": "96dc9709-bee8-40dc-882d-c58a7fc18517",
   "metadata": {},
   "outputs": [
    {
     "name": "stdout",
     "output_type": "stream",
     "text": [
      "9.5\n"
     ]
    }
   ],
   "source": [
    "long_obj1 = 10.5\n",
    "long_obj2 = 20\n",
    "long_obj3 = long_obj2 - long_obj1\n",
    "print (long_obj3)"
   ]
  },
  {
   "cell_type": "code",
   "execution_count": null,
   "id": "96a6b65e-a083-4c48-9f66-7874662acbab",
   "metadata": {},
   "outputs": [],
   "source": []
  }
 ],
 "metadata": {
  "kernelspec": {
   "display_name": "Python 3 (ipykernel)",
   "language": "python",
   "name": "python3"
  },
  "language_info": {
   "codemirror_mode": {
    "name": "ipython",
    "version": 3
   },
   "file_extension": ".py",
   "mimetype": "text/x-python",
   "name": "python",
   "nbconvert_exporter": "python",
   "pygments_lexer": "ipython3",
   "version": "3.9.13"
  }
 },
 "nbformat": 4,
 "nbformat_minor": 5
}
